{
 "metadata": {
  "name": ""
 },
 "nbformat": 3,
 "nbformat_minor": 0,
 "worksheets": [
  {
   "cells": [
    {
     "cell_type": "markdown",
     "metadata": {},
     "source": [
      "In Python, `*` and `**` allow you to capture arguments coming into a callable, even if you don't know their names ahead of time."
     ]
    },
    {
     "cell_type": "code",
     "collapsed": false,
     "input": [
      "def foo(*args):\n",
      "    print repr(args)\n",
      "\n",
      "foo(1, 2, 3, 4)"
     ],
     "language": "python",
     "metadata": {},
     "outputs": [
      {
       "output_type": "stream",
       "stream": "stdout",
       "text": [
        "(1, 2, 3, 4)\n"
       ]
      }
     ],
     "prompt_number": 2
    },
    {
     "cell_type": "code",
     "collapsed": false,
     "input": [
      "def bar(**kwargs):\n",
      "    print kwargs\n",
      "\n",
      "bar(a=1, b=2, c=3)"
     ],
     "language": "python",
     "metadata": {},
     "outputs": [
      {
       "output_type": "stream",
       "stream": "stdout",
       "text": [
        "{'a': 1, 'c': 3, 'b': 2}\n"
       ]
      }
     ],
     "prompt_number": 3
    },
    {
     "cell_type": "markdown",
     "metadata": {},
     "source": [
      "This is particularly useful for inheritance, where you may want to override a method of the parent while maintaining the parent's method's functionality. You can do so without even knowing the parent class's signature - and if that signature changes, your descendant class will not break!"
     ]
    },
    {
     "cell_type": "code",
     "collapsed": false,
     "input": [
      "class Baz(object):\n",
      "    def my_method(self, a, b):\n",
      "        print 'a: %s; b: %s' % (a, b)\n",
      "\n",
      "class Bazlet(Baz):\n",
      "    def my_method(self, x, *args, **kwargs):\n",
      "        print 'x: %s' % x\n",
      "        # Call the parent's corresponding method\n",
      "        super(Bazlet, self).my_method(*args, **kwargs)\n",
      "\n",
      "baz = Bazlet()\n",
      "baz.my_method(x=10, a=1, b=2)"
     ],
     "language": "python",
     "metadata": {},
     "outputs": [
      {
       "output_type": "stream",
       "stream": "stdout",
       "text": [
        "x: 10\n",
        "a: 1; b: 2\n"
       ]
      }
     ],
     "prompt_number": 7
    },
    {
     "cell_type": "markdown",
     "metadata": {},
     "source": [
      "Whenever you wrap a method to provide a particular interface, or create a subclass and extend a particular method, using this convention will make your code less fragile."
     ]
    }
   ],
   "metadata": {}
  }
 ]
}