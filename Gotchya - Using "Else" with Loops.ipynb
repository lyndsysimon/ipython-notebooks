{
 "metadata": {
  "name": ""
 },
 "nbformat": 3,
 "nbformat_minor": 0,
 "worksheets": [
  {
   "cells": [
    {
     "cell_type": "markdown",
     "metadata": {},
     "source": [
      "One of my favorite attributes of Python as a language is that when you encounter something you've not seen before, it generally \"just works\" the way you expect it to. The `else` clause of a `for` or `while` loop is the exception to that rule.\n",
      "\n",
      "Consider the familiar `if` statement:"
     ]
    },
    {
     "cell_type": "code",
     "collapsed": false,
     "input": [
      "x = True\n",
      "if x:\n",
      "    print(\"x is truthy\")\n",
      "else:\n",
      "    print(\"x is falsy\")"
     ],
     "language": "python",
     "metadata": {},
     "outputs": [
      {
       "output_type": "stream",
       "stream": "stdout",
       "text": [
        "x is truthy\n"
       ]
      }
     ],
     "prompt_number": 13
    },
    {
     "cell_type": "markdown",
     "metadata": {},
     "source": [
      "When the `if`'s condition is met (it is \"truthy\"), the code belonging to the `if` block is executed. When the `if`'s condition is *not* met, the `else` block executes instead. In no case will both blocks execute. This is pretty basic Python - hell, it's pretty basic *programming*. It works the same in every language I've ever learned.\n",
      "\n",
      "Given this, let's take a look at the following:"
     ]
    },
    {
     "cell_type": "code",
     "collapsed": false,
     "input": [
      "numbers = tuple()\n",
      "\n",
      "for value in numbers:\n",
      "    print(\"Inside the loop: value={}\".format(value))\n",
      "else:\n",
      "    print(\"... else ...\")"
     ],
     "language": "python",
     "metadata": {},
     "outputs": [
      {
       "output_type": "stream",
       "stream": "stdout",
       "text": [
        "... else ...\n"
       ]
      }
     ],
     "prompt_number": 20
    },
    {
     "cell_type": "markdown",
     "metadata": {},
     "source": [
      "Given a tuple containing no items, only the else block executes. So far, so good - this is working just like `if..else`. But what happens when we try the same thing, but with a 3-tuple?"
     ]
    },
    {
     "cell_type": "code",
     "collapsed": false,
     "input": [
      "numbers = (0, 1, 2)\n",
      "\n",
      "for value in numbers:\n",
      "    print(\"Inside the loop: value={}\".format(value))\n",
      "else:\n",
      "    print(\"... else ...\")"
     ],
     "language": "python",
     "metadata": {},
     "outputs": [
      {
       "output_type": "stream",
       "stream": "stdout",
       "text": [
        "Inside the loop: value=0\n",
        "Inside the loop: value=1\n",
        "Inside the loop: value=2\n",
        "... else ...\n"
       ]
      }
     ],
     "prompt_number": 23
    },
    {
     "cell_type": "markdown",
     "metadata": {},
     "source": [
      "Whoa!\n",
      "\n",
      "Unlike the `if..else` statement, it seems like the `else` block in a `for..else` always executes. If that's the case, then why have the statement at all? Wouldn't just putting the code inline after the loop do the same thing? Sort of - but what's actually happening is that the `else` block gets executed *when the iterable is exhausted* on a `for` loop, and *when the condition is \"falsy\"* on a `while` loop.\n",
      "\n",
      "That means constructs like this are possible:"
     ]
    },
    {
     "cell_type": "code",
     "collapsed": false,
     "input": [
      "numbers = (0, 1, 2)\n",
      "\n",
      "for value in numbers:\n",
      "    print(\"Inside the loop: value={}\".format(value))\n",
      "    if value == 1:\n",
      "        break\n",
      "else:\n",
      "    print(\"... else ...\")"
     ],
     "language": "python",
     "metadata": {},
     "outputs": [
      {
       "output_type": "stream",
       "stream": "stdout",
       "text": [
        "Inside the loop: value=0\n",
        "Inside the loop: value=1\n"
       ]
      }
     ],
     "prompt_number": 35
    },
    {
     "cell_type": "markdown",
     "metadata": {},
     "source": [
      "Because we used `break` to exit the loop before `numbers` never ran out of values, the `else` block is not triggered. The `else` block gives you an easy to execute code when a loop completes, but skip that same code if the loop exits early."
     ]
    },
    {
     "cell_type": "markdown",
     "metadata": {},
     "source": [
      "## See Also\n",
      "\n",
      "* Python docs: [[2.x](https://docs.python.org/2/tutorial/controlflow.html#break-and-continue-statements-and-else-clauses-on-loops)] [[3.x](https://docs.python.org/3/tutorial/controlflow.html#break-and-continue-statements-and-else-clauses-on-loops)] "
     ]
    }
   ],
   "metadata": {}
  }
 ]
}